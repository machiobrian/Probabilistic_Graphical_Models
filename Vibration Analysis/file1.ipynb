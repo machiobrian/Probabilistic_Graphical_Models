{
 "cells": [
  {
   "cell_type": "code",
   "execution_count": 83,
   "metadata": {},
   "outputs": [],
   "source": [
    "# import the necessary libs\n",
    "import pandas\n",
    "import numpy\n",
    "import os\n",
    "import zipfile\n",
    "\n",
    "import matplotlib.pyplot as plt \n",
    "import h5py\n",
    "import types \n",
    "\n",
    "import librosa # we will make use of `features` and `filters` modules\n",
    "import hmmlearn # make use of hmm\n",
    "\n",
    "import sklearn.linear_model\n",
    "import sklearn.pipeline\n",
    "import sklearn.preprocessing\n",
    "import sklearn.metrics\n",
    "\n",
    "import functools\n",
    "import itertools\n",
    "import multiprocessing\n",
    "\n",
    "import dask_jobqueue\n",
    "import dask.distributed"
   ]
  },
  {
   "cell_type": "code",
   "execution_count": 84,
   "metadata": {},
   "outputs": [],
   "source": [
    "rpm_lower = 715\n",
    "rpm_uppper = 915\n",
    "\n",
    "win_len_ms = 1000 # sample length (ms)\n",
    "\n",
    "skip = 5000 # the number of measurements to skip from the start of each recording\n",
    "smapling_freq = 4096 # sampling rate (Hz)"
   ]
  },
  {
   "cell_type": "code",
   "execution_count": 85,
   "metadata": {},
   "outputs": [],
   "source": [
    "# the recordings to be used during training\n",
    "n_good,n_bad = '0D', '3D'\n",
    "# define the file path of the datasets\n",
    "infile = '/home/ix502iv/Documents/Probabilistic_Graphical_Models/DataSet/dataset_hmm.zip'"
   ]
  },
  {
   "cell_type": "code",
   "execution_count": 86,
   "metadata": {},
   "outputs": [],
   "source": [
    "def load_zipfile(zfile, n):\n",
    "    win_len = int(win_len_ms/1000*smapling_freq)\n",
    "    with zfile.open(n + '.csv', 'r') as f:\n",
    "        data = pandas.read_csv(f).iloc[skip:, :]\n",
    "\n",
    "    n = (data.shape[0]//win_len) * win_len\n",
    "    data = data.iloc[:n, :]\n",
    "\n",
    "    rpm = numpy.reshape(data['Measured_RPM'].values, (-1, win_len), order='C')\n",
    "    vibr = numpy.reshape(data['Vibration_3'].values, (-1, win_len), order='C')\n",
    "    #choosing rpm based on the sensitivity aspect of hmm_mfcc : rpm_lw < rpm < rpm_up.\n",
    "    ind, = numpy.nonzero(numpy.all(rpm>rpm_lower, axis=1) & numpy.all(rpm<rpm_uppper, axis=1))\n",
    "    # randomly permutate a sequence : return a permutated range\n",
    "    numpy.random.seed(170287); ind = numpy.random.permutation(ind)\n",
    "    return vibr[ind, :].copy()"
   ]
  },
  {
   "cell_type": "code",
   "execution_count": 87,
   "metadata": {},
   "outputs": [],
   "source": [
    "def load_data(filename, n_good, n_bad):\n",
    "    with zipfile.ZipFile(filename, 'r') as zfile:\n",
    "        good = load_zipfile(zfile, n_good) # 0D\n",
    "        bad = load_zipfile(zfile, n_bad) # 3D\n",
    "    return good, bad"
   ]
  },
  {
   "cell_type": "code",
   "execution_count": 88,
   "metadata": {},
   "outputs": [],
   "source": [
    "# lets load the files\n",
    "good, bad = load_data(infile, n_good, n_bad)"
   ]
  },
  {
   "cell_type": "code",
   "execution_count": 91,
   "metadata": {},
   "outputs": [
    {
     "name": "stdout",
     "output_type": "stream",
     "text": [
      "Good Samples '#0D' (709, 4096)\n"
     ]
    }
   ],
   "source": [
    "print(\"Good Samples '#0D'\", good.shape)"
   ]
  },
  {
   "cell_type": "code",
   "execution_count": 92,
   "metadata": {},
   "outputs": [
    {
     "name": "stdout",
     "output_type": "stream",
     "text": [
      "Bad Samples '3D' (708, 4096)\n"
     ]
    }
   ],
   "source": [
    "print(\"Bad Samples '3D'\", bad.shape)"
   ]
  }
 ],
 "metadata": {
  "kernelspec": {
   "display_name": "TensorFlow",
   "language": "python",
   "name": "python3"
  },
  "language_info": {
   "codemirror_mode": {
    "name": "ipython",
    "version": 3
   },
   "file_extension": ".py",
   "mimetype": "text/x-python",
   "name": "python",
   "nbconvert_exporter": "python",
   "pygments_lexer": "ipython3",
   "version": "3.10.8"
  },
  "orig_nbformat": 4
 },
 "nbformat": 4,
 "nbformat_minor": 2
}
