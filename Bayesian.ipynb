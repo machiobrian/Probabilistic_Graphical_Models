{
 "cells": [
  {
   "attachments": {},
   "cell_type": "markdown",
   "metadata": {},
   "source": [
    "### Introduction"
   ]
  },
  {
   "cell_type": "code",
   "execution_count": 14,
   "metadata": {},
   "outputs": [],
   "source": [
    "from pgmpy.models import BayesianNetwork, BayesianModel\n",
    "from pgmpy.factors.discrete import TabularCPD # conditional prob distribution"
   ]
  },
  {
   "cell_type": "code",
   "execution_count": 15,
   "metadata": {},
   "outputs": [
    {
     "name": "stderr",
     "output_type": "stream",
     "text": [
      "/home/ix502iv/miniconda3/envs/TensorFlow/lib/python3.10/site-packages/pgmpy/models/BayesianModel.py:8: FutureWarning: BayesianModel has been renamed to BayesianNetwork. Please use BayesianNetwork class, BayesianModel will be removed in future.\n",
      "  warnings.warn(\n"
     ]
    }
   ],
   "source": [
    "# define the model's structure by passing a list of edges\n",
    "model = BayesianModel([('D','G'), ('I', 'G'), ('G','L'), ('I','S')])"
   ]
  },
  {
   "cell_type": "code",
   "execution_count": 16,
   "metadata": {},
   "outputs": [],
   "source": [
    "# initialize a discreet factor class | without state_names\n",
    "cpd_d = TabularCPD(variable = 'D', variable_card=2, values=[[0.6], [0.4]])\n",
    "cpd_i = TabularCPD(variable = 'I', variable_card=2, values=[[0.7],[0.3]])\n",
    "\n",
    "cpd_g = TabularCPD(variable='G', variable_card=3,\n",
    "                   values=[[0.3,0.05,0.9,0.5],\n",
    "                           [0.4,0.25,0.08,0.3],\n",
    "                           [0.3,0.7,0.02,0.2]],\n",
    "                           evidence=['I', 'D'],\n",
    "                           evidence_card=[2,2])\n",
    "cpd_l = TabularCPD(variable='L', variable_card=2,\n",
    "                   values=[[0.1,0.4,0.99],\n",
    "                           [0.9,0.6,0.01]],\n",
    "                           evidence=['G'],\n",
    "                           evidence_card=[3])\n",
    "\n",
    "cpd_s = TabularCPD(variable='S', variable_card=2,\n",
    "                   values=[[0.95, 0.2],\n",
    "                           [0.05, 0.8]],\n",
    "                           evidence=['I'],\n",
    "                           evidence_card=[2])\n",
    "\n",
    "# lets associate CDs with the networls\n",
    "model.add_cpds(cpd_d, cpd_i, cpd_g, cpd_l, cpd_s)"
   ]
  },
  {
   "cell_type": "code",
   "execution_count": 17,
   "metadata": {},
   "outputs": [
    {
     "data": {
      "text/plain": [
       "True"
      ]
     },
     "execution_count": 17,
     "metadata": {},
     "output_type": "execute_result"
    }
   ],
   "source": [
    "# check_model : checks for the network structure and CPDs and verifies that the CPDs\n",
    "# are well defined and sum to 1\n",
    "model.check_model()"
   ]
  },
  {
   "cell_type": "code",
   "execution_count": 18,
   "metadata": {},
   "outputs": [
    {
     "data": {
      "text/plain": [
       "[<TabularCPD representing P(D:2) at 0x7f7e64d0c250>,\n",
       " <TabularCPD representing P(I:2) at 0x7f7e6518fe20>,\n",
       " <TabularCPD representing P(G:3 | I:2, D:2) at 0x7f7e6518ff10>,\n",
       " <TabularCPD representing P(L:2 | G:3) at 0x7f7e6518fa90>,\n",
       " <TabularCPD representing P(S:2 | I:2) at 0x7f7e6518ff70>]"
      ]
     },
     "execution_count": 18,
     "metadata": {},
     "output_type": "execute_result"
    }
   ],
   "source": [
    "model.get_cpds()"
   ]
  },
  {
   "cell_type": "code",
   "execution_count": 19,
   "metadata": {},
   "outputs": [],
   "source": [
    "# initialize a discreet factor class | with state_names\n",
    "# initialize a discreet factor class | without state_names\n",
    "cpd_d_sn = TabularCPD(variable = 'D', variable_card=2, values=[[0.6], [0.4]], state_names={'D': ['Easy', 'Hard']})\n",
    "cpd_i_sn = TabularCPD(variable = 'I', variable_card=2, values=[[0.7],[0.3]], state_names={'I': ['Dumb', 'Intelligent']})\n",
    "\n",
    "cpd_g_sn = TabularCPD(variable='G', variable_card=3,\n",
    "                   values=[[0.3,0.05,0.9,0.5],\n",
    "                           [0.4,0.25,0.08,0.3],\n",
    "                           [0.3,0.7,0.02,0.2]],\n",
    "                           evidence=['I', 'D'],\n",
    "                           evidence_card=[2,2],\n",
    "                           state_names={'G': ['A','B', 'C'],\n",
    "                                        'I': ['Dumb', 'Intelligent'],\n",
    "                                        'D': ['Easy', 'Hard']})\n",
    "\n",
    "cpd_l_sn = TabularCPD(variable='L', variable_card=2,\n",
    "                   values=[[0.1,0.4,0.99],\n",
    "                           [0.9,0.6,0.01]],\n",
    "                           evidence=['G'],\n",
    "                           evidence_card=[3],\n",
    "                           state_names={'L': ['Bad', 'Good'],\n",
    "                                        'G':['A', 'B', 'C']})\n",
    "\n",
    "cpd_s_sn = TabularCPD(variable='S', variable_card=2,\n",
    "                   values=[[0.95, 0.2],\n",
    "                           [0.05, 0.8]],\n",
    "                           evidence=['I'],\n",
    "                           evidence_card=[2],\n",
    "                           state_names={'S':['Bad','Good'],\n",
    "                                        'I': ['Dumb', 'Intelligent']})\n",
    "\n",
    "# lets associate CDs with the networls\n",
    "model.add_cpds(cpd_d_sn, cpd_i_sn, cpd_g_sn, cpd_l_sn, cpd_s_sn) # add cpd to the bayesian network"
   ]
  },
  {
   "cell_type": "code",
   "execution_count": 20,
   "metadata": {},
   "outputs": [
    {
     "data": {
      "text/plain": [
       "True"
      ]
     },
     "execution_count": 20,
     "metadata": {},
     "output_type": "execute_result"
    }
   ],
   "source": [
    "model.check_model()"
   ]
  },
  {
   "cell_type": "code",
   "execution_count": 21,
   "metadata": {},
   "outputs": [
    {
     "name": "stdout",
     "output_type": "stream",
     "text": [
      "+------+---------+---------+----------------+----------------+\n",
      "| I    | I(Dumb) | I(Dumb) | I(Intelligent) | I(Intelligent) |\n",
      "+------+---------+---------+----------------+----------------+\n",
      "| D    | D(Easy) | D(Hard) | D(Easy)        | D(Hard)        |\n",
      "+------+---------+---------+----------------+----------------+\n",
      "| G(A) | 0.3     | 0.05    | 0.9            | 0.5            |\n",
      "+------+---------+---------+----------------+----------------+\n",
      "| G(B) | 0.4     | 0.25    | 0.08           | 0.3            |\n",
      "+------+---------+---------+----------------+----------------+\n",
      "| G(C) | 0.3     | 0.7     | 0.02           | 0.2            |\n",
      "+------+---------+---------+----------------+----------------+\n"
     ]
    }
   ],
   "source": [
    "print(cpd_g_sn)"
   ]
  },
  {
   "cell_type": "code",
   "execution_count": 22,
   "metadata": {},
   "outputs": [
    {
     "name": "stdout",
     "output_type": "stream",
     "text": [
      "+------+---------+---------+----------------+----------------+\n",
      "| I    | I(Dumb) | I(Dumb) | I(Intelligent) | I(Intelligent) |\n",
      "+------+---------+---------+----------------+----------------+\n",
      "| D    | D(Easy) | D(Hard) | D(Easy)        | D(Hard)        |\n",
      "+------+---------+---------+----------------+----------------+\n",
      "| G(A) | 0.3     | 0.05    | 0.9            | 0.5            |\n",
      "+------+---------+---------+----------------+----------------+\n",
      "| G(B) | 0.4     | 0.25    | 0.08           | 0.3            |\n",
      "+------+---------+---------+----------------+----------------+\n",
      "| G(C) | 0.3     | 0.7     | 0.02           | 0.2            |\n",
      "+------+---------+---------+----------------+----------------+\n"
     ]
    }
   ],
   "source": [
    "print(model.get_cpds('G'))"
   ]
  },
  {
   "cell_type": "code",
   "execution_count": 23,
   "metadata": {},
   "outputs": [
    {
     "data": {
      "text/plain": [
       "defaultdict(int, {'D': 2, 'I': 2, 'G': 3, 'L': 2, 'S': 2})"
      ]
     },
     "execution_count": 23,
     "metadata": {},
     "output_type": "execute_result"
    }
   ],
   "source": [
    "model.get_cardinality() # the number of possible values a feature can assume"
   ]
  },
  {
   "attachments": {},
   "cell_type": "markdown",
   "metadata": {},
   "source": [
    "`find independence in a network : local`"
   ]
  },
  {
   "cell_type": "code",
   "execution_count": 25,
   "metadata": {},
   "outputs": [
    {
     "data": {
      "text/plain": [
       "(G ⟂ S | I, D)"
      ]
     },
     "execution_count": 25,
     "metadata": {},
     "output_type": "execute_result"
    }
   ],
   "source": [
    "model.local_independencies('G')"
   ]
  },
  {
   "cell_type": "code",
   "execution_count": 28,
   "metadata": {},
   "outputs": [
    {
     "data": {
      "text/plain": [
       "(D ⟂ I, S)\n",
       "(I ⟂ D)\n",
       "(S ⟂ G, L, D | I)\n",
       "(G ⟂ S | I, D)\n",
       "(L ⟂ I, D, S | G)"
      ]
     },
     "execution_count": 28,
     "metadata": {},
     "output_type": "execute_result"
    }
   ],
   "source": [
    "# all dependancies\n",
    "model.local_independencies(['D', 'I', 'S', 'G', 'L'])"
   ]
  },
  {
   "cell_type": "code",
   "execution_count": 30,
   "metadata": {},
   "outputs": [
    {
     "data": {
      "text/plain": [
       "{'D': {'D', 'G', 'L'}}"
      ]
     },
     "execution_count": 30,
     "metadata": {},
     "output_type": "execute_result"
    }
   ],
   "source": [
    "model.active_trail_nodes('D')"
   ]
  },
  {
   "cell_type": "code",
   "execution_count": 31,
   "metadata": {},
   "outputs": [
    {
     "data": {
      "text/plain": [
       "{'D': {'D', 'I', 'S'}}"
      ]
     },
     "execution_count": 31,
     "metadata": {},
     "output_type": "execute_result"
    }
   ],
   "source": [
    "model.active_trail_nodes('D', observed='G')"
   ]
  },
  {
   "attachments": {},
   "cell_type": "markdown",
   "metadata": {},
   "source": [
    "### Inferencing in Bayesian Model"
   ]
  },
  {
   "attachments": {},
   "cell_type": "markdown",
   "metadata": {},
   "source": [
    "`we want to know the probable grade of an intelligent student in a difficult class considering they got a good in SATs`"
   ]
  },
  {
   "cell_type": "code",
   "execution_count": 34,
   "metadata": {},
   "outputs": [],
   "source": [
    "from pgmpy.inference import VariableElimination # converts a bayesian \n",
    "# network to a uniform represenation so that inference algorithm can e applied"
   ]
  },
  {
   "cell_type": "code",
   "execution_count": 36,
   "metadata": {},
   "outputs": [
    {
     "name": "stdout",
     "output_type": "stream",
     "text": [
      "+------+----------+\n",
      "| G    |   phi(G) |\n",
      "+======+==========+\n",
      "| G(A) |   0.3620 |\n",
      "+------+----------+\n",
      "| G(B) |   0.2884 |\n",
      "+------+----------+\n",
      "| G(C) |   0.3496 |\n",
      "+------+----------+\n"
     ]
    }
   ],
   "source": [
    "infer = VariableElimination(model=model)\n",
    "g_dist = infer.query(['G']) # list of variables we want to compute prob.\n",
    "print(g_dist)"
   ]
  },
  {
   "cell_type": "code",
   "execution_count": 44,
   "metadata": {},
   "outputs": [
    {
     "name": "stdout",
     "output_type": "stream",
     "text": [
      "+---------+----------+\n",
      "| L       |   phi(L) |\n",
      "+=========+==========+\n",
      "| L(Bad)  |   0.1418 |\n",
      "+---------+----------+\n",
      "| L(Good) |   0.8582 |\n",
      "+---------+----------+\n"
     ]
    }
   ],
   "source": [
    "# what if we want to compute the conditional distribution\n",
    "print(infer.query(['L'], evidence={'D': 'Easy', 'I':'Intelligent'}))"
   ]
  }
 ],
 "metadata": {
  "kernelspec": {
   "display_name": "TensorFlow",
   "language": "python",
   "name": "python3"
  },
  "language_info": {
   "codemirror_mode": {
    "name": "ipython",
    "version": 3
   },
   "file_extension": ".py",
   "mimetype": "text/x-python",
   "name": "python",
   "nbconvert_exporter": "python",
   "pygments_lexer": "ipython3",
   "version": "3.10.8"
  },
  "orig_nbformat": 4,
  "vscode": {
   "interpreter": {
    "hash": "45c48fb264bba0529b917885aa2fdf54bfc5ac58ac8ea30a57d1df6ad7c47fba"
   }
  }
 },
 "nbformat": 4,
 "nbformat_minor": 2
}
