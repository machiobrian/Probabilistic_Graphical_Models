{
 "cells": [
  {
   "cell_type": "code",
   "execution_count": 27,
   "metadata": {},
   "outputs": [],
   "source": [
    "from pgmpy.models import BayesianNetwork\n",
    "from pgmpy.factors.discrete import TabularCPD # conditional prob distribution"
   ]
  },
  {
   "cell_type": "code",
   "execution_count": 28,
   "metadata": {},
   "outputs": [],
   "source": [
    "# define the model's structure by passing a list of edges\n",
    "model = BayesianNetwork([('D','G'), ('I', 'G'), ('G','L'), ('I','S')])"
   ]
  },
  {
   "cell_type": "code",
   "execution_count": 29,
   "metadata": {},
   "outputs": [],
   "source": [
    "# initialize a discreet factor class | without state_names\n",
    "cpd_d = TabularCPD(variable = 'D', variable_card=2, values=[[0.6], [0.4]])\n",
    "cpd_i = TabularCPD(variable = 'I', variable_card=2, values=[[0.7],[0.3]])\n",
    "\n",
    "cpd_g = TabularCPD(variable='G', variable_card=3,\n",
    "                   values=[[0.3,0.05,0.9,0.5],\n",
    "                           [0.4,0.25,0.08,0.3],\n",
    "                           [0.3,0.7,0.02,0.2]],\n",
    "                           evidence=['I', 'D'],\n",
    "                           evidence_card=[2,2])\n",
    "cpd_l = TabularCPD(variable='L', variable_card=2,\n",
    "                   values=[[0.1,0.4,0.99],\n",
    "                           [0.9,0.6,0.01]],\n",
    "                           evidence=['G'],\n",
    "                           evidence_card=[3])\n",
    "\n",
    "cpd_s = TabularCPD(variable='S', variable_card=2,\n",
    "                   values=[[0.95, 0.2],\n",
    "                           [0.05, 0.8]],\n",
    "                           evidence=['I'],\n",
    "                           evidence_card=[2])\n",
    "\n",
    "# lets associate CDs with the networls\n",
    "model.add_cpds(cpd_d, cpd_i, cpd_g, cpd_l, cpd_s)"
   ]
  },
  {
   "cell_type": "code",
   "execution_count": 30,
   "metadata": {},
   "outputs": [
    {
     "data": {
      "text/plain": [
       "True"
      ]
     },
     "execution_count": 30,
     "metadata": {},
     "output_type": "execute_result"
    }
   ],
   "source": [
    "# check_model : checks for the network structure and CPDs and verifies that the CPDs\n",
    "# are well defined and sum to 1\n",
    "model.check_model()"
   ]
  },
  {
   "cell_type": "code",
   "execution_count": 34,
   "metadata": {},
   "outputs": [
    {
     "data": {
      "text/plain": [
       "[<TabularCPD representing P(D:2) at 0x7fd69e76f850>,\n",
       " <TabularCPD representing P(I:2) at 0x7fd69e76eaa0>,\n",
       " <TabularCPD representing P(G:3 | I:2, D:2) at 0x7fd69e76f9d0>,\n",
       " <TabularCPD representing P(L:2 | G:3) at 0x7fd69e76ed40>,\n",
       " <TabularCPD representing P(S:2 | I:2) at 0x7fd69e76fa60>]"
      ]
     },
     "execution_count": 34,
     "metadata": {},
     "output_type": "execute_result"
    }
   ],
   "source": [
    "model.get_cpds()"
   ]
  },
  {
   "cell_type": "code",
   "execution_count": 42,
   "metadata": {},
   "outputs": [],
   "source": [
    "# initialize a discreet factor class | with state_names\n",
    "# initialize a discreet factor class | without state_names\n",
    "cpd_d_sn = TabularCPD(variable = 'D', variable_card=2, values=[[0.6], [0.4]], state_names={'D': ['Easy', 'Hard']})\n",
    "cpd_i_sn = TabularCPD(variable = 'I', variable_card=2, values=[[0.7],[0.3]], state_names={'I': ['Dumb', 'Intelligent']})\n",
    "\n",
    "cpd_g_sn = TabularCPD(variable='G', variable_card=3,\n",
    "                   values=[[0.3,0.05,0.9,0.5],\n",
    "                           [0.4,0.25,0.08,0.3],\n",
    "                           [0.3,0.7,0.02,0.2]],\n",
    "                           evidence=['I', 'D'],\n",
    "                           evidence_card=[2,2],\n",
    "                           state_names={'G': ['A','B', 'C'],\n",
    "                                        'I': ['Dumb', 'Intelligent'],\n",
    "                                        'D': ['Easy', 'Hard']})\n",
    "\n",
    "cpd_l_sn = TabularCPD(variable='L', variable_card=2,\n",
    "                   values=[[0.1,0.4,0.99],\n",
    "                           [0.9,0.6,0.01]],\n",
    "                           evidence=['G'],\n",
    "                           evidence_card=[3],\n",
    "                           state_names={'L': ['Bad', 'Good'],\n",
    "                                        'G':['A', 'B', 'C']})\n",
    "\n",
    "cpd_s_sn = TabularCPD(variable='S', variable_card=2,\n",
    "                   values=[[0.95, 0.2],\n",
    "                           [0.05, 0.8]],\n",
    "                           evidence=['I'],\n",
    "                           evidence_card=[2],\n",
    "                           state_names={'S':['Bad','Good'],\n",
    "                                        'I': ['Dumb', 'Intelligent']})\n",
    "\n",
    "# lets associate CDs with the networls\n",
    "model.add_cpds(cpd_d_sn, cpd_i_sn, cpd_g_sn, cpd_l_sn, cpd_s_sn) # add cpd to the bayesian network"
   ]
  },
  {
   "cell_type": "code",
   "execution_count": 43,
   "metadata": {},
   "outputs": [
    {
     "data": {
      "text/plain": [
       "True"
      ]
     },
     "execution_count": 43,
     "metadata": {},
     "output_type": "execute_result"
    }
   ],
   "source": [
    "model.check_model()"
   ]
  },
  {
   "cell_type": "code",
   "execution_count": 46,
   "metadata": {},
   "outputs": [
    {
     "name": "stdout",
     "output_type": "stream",
     "text": [
      "+------+---------+---------+----------------+----------------+\n",
      "| I    | I(Dumb) | I(Dumb) | I(Intelligent) | I(Intelligent) |\n",
      "+------+---------+---------+----------------+----------------+\n",
      "| D    | D(Easy) | D(Hard) | D(Easy)        | D(Hard)        |\n",
      "+------+---------+---------+----------------+----------------+\n",
      "| G(A) | 0.3     | 0.05    | 0.9            | 0.5            |\n",
      "+------+---------+---------+----------------+----------------+\n",
      "| G(B) | 0.4     | 0.25    | 0.08           | 0.3            |\n",
      "+------+---------+---------+----------------+----------------+\n",
      "| G(C) | 0.3     | 0.7     | 0.02           | 0.2            |\n",
      "+------+---------+---------+----------------+----------------+\n"
     ]
    }
   ],
   "source": [
    "print(cpd_g_sn)"
   ]
  },
  {
   "cell_type": "code",
   "execution_count": 47,
   "metadata": {},
   "outputs": [
    {
     "name": "stdout",
     "output_type": "stream",
     "text": [
      "+------+---------+---------+----------------+----------------+\n",
      "| I    | I(Dumb) | I(Dumb) | I(Intelligent) | I(Intelligent) |\n",
      "+------+---------+---------+----------------+----------------+\n",
      "| D    | D(Easy) | D(Hard) | D(Easy)        | D(Hard)        |\n",
      "+------+---------+---------+----------------+----------------+\n",
      "| G(A) | 0.3     | 0.05    | 0.9            | 0.5            |\n",
      "+------+---------+---------+----------------+----------------+\n",
      "| G(B) | 0.4     | 0.25    | 0.08           | 0.3            |\n",
      "+------+---------+---------+----------------+----------------+\n",
      "| G(C) | 0.3     | 0.7     | 0.02           | 0.2            |\n",
      "+------+---------+---------+----------------+----------------+\n"
     ]
    }
   ],
   "source": [
    "print(model.get_cpds('G'))"
   ]
  },
  {
   "cell_type": "code",
   "execution_count": 49,
   "metadata": {},
   "outputs": [
    {
     "data": {
      "text/plain": [
       "defaultdict(int, {'D': 2, 'I': 2, 'G': 3, 'L': 2, 'S': 2})"
      ]
     },
     "execution_count": 49,
     "metadata": {},
     "output_type": "execute_result"
    }
   ],
   "source": [
    "model.get_cardinality() # the number of possible values a feature can assume"
   ]
  }
 ],
 "metadata": {
  "kernelspec": {
   "display_name": "TensorFlow",
   "language": "python",
   "name": "python3"
  },
  "language_info": {
   "codemirror_mode": {
    "name": "ipython",
    "version": 3
   },
   "file_extension": ".py",
   "mimetype": "text/x-python",
   "name": "python",
   "nbconvert_exporter": "python",
   "pygments_lexer": "ipython3",
   "version": "3.10.8"
  },
  "orig_nbformat": 4,
  "vscode": {
   "interpreter": {
    "hash": "45c48fb264bba0529b917885aa2fdf54bfc5ac58ac8ea30a57d1df6ad7c47fba"
   }
  }
 },
 "nbformat": 4,
 "nbformat_minor": 2
}
