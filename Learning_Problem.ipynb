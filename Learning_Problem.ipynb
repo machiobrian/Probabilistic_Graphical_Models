{
 "cells": [
  {
   "cell_type": "code",
   "execution_count": 2,
   "metadata": {},
   "outputs": [],
   "source": [
    "import numpy as np \n",
    "import pandas as pd"
   ]
  },
  {
   "cell_type": "code",
   "execution_count": 4,
   "metadata": {},
   "outputs": [],
   "source": [
    "def backward(V, a, b):\n",
    "    beta = np.zeros((V.shape[0], a.shape[0]))\n",
    "\n",
    "    # set beta(t) = 1\n",
    "    beta[V.shape[0] - 1] = np.ones((a.shape[0]))\n",
    "    # beta is a backwaard param: answers the prob we are going to be\n",
    "    # at the state si knowing what is going to come in the future and not\n",
    "    # in the past. \n",
    "    # loop back from t-2 to 0\n",
    "    for t in range(V.shape[0]-2,-1,-1):\n",
    "        for j in range(a.shape[0]):\n",
    "            beta[t,j] = (beta[t+1]*b[:,V[t+1]]).dot(a[j, :])\n",
    "    return beta \n",
    "\n",
    "def forward(V, a, b, initial_distribution):\n",
    "    # alpha is a forward param: answers what is the probability that\n",
    "    # we are in this particular state given the set of observations we\n",
    "    # have seen so far\n",
    "    alpha = np.zeros((V.shape[0], a.shape[0]))\n",
    "    alpha[0, :] = initial_distribution * b[:, V[0]]\n",
    "\n",
    "    for t in range(1, V.shape[0]):\n",
    "        for j in range(a.shape[0]):\n",
    "            alpha[t,j] = alpha[t-1].dot(a[:,j])*b[j, V[t]]\n",
    "    return alpha"
   ]
  },
  {
   "cell_type": "code",
   "execution_count": 5,
   "metadata": {},
   "outputs": [],
   "source": [
    "def baum_welch(V, a, b, initial_distribution, n_iter=100):\n",
    "    M = a.shape[0]\n",
    "    T = len(V)\n",
    " \n",
    "    for n in range(n_iter):\n",
    "        alpha = forward(V, a, b, initial_distribution)\n",
    "        beta = backward(V, a, b)\n",
    " \n",
    "        xi = np.zeros((M, M, T - 1))\n",
    "        for t in range(T - 1):\n",
    "            denominator = np.dot(np.dot(alpha[t, :].T, a) * b[:, V[t + 1]].T, beta[t + 1, :])\n",
    "            for i in range(M):\n",
    "                numerator = alpha[t, i] * a[i, :] * b[:, V[t + 1]].T * beta[t + 1, :].T\n",
    "                xi[i, :, t] = numerator / denominator\n",
    "        # gamma is a fusion of alpha & beta :  \n",
    "\n",
    "        gamma = np.sum(xi, axis=1)\n",
    "        a = np.sum(xi, 2) / np.sum(gamma, axis=1).reshape((-1, 1))\n",
    " \n",
    "        # Add additional T'th element in gamma\n",
    "        gamma = np.hstack((gamma, np.sum(xi[:, :, T - 2], axis=0).reshape((-1, 1))))\n",
    " \n",
    "        K = b.shape[1]\n",
    "        denominator = np.sum(gamma, axis=1)\n",
    "        for l in range(K):\n",
    "            b[:, l] = np.sum(gamma[:, V == l], axis=1)\n",
    " \n",
    "        b = np.divide(b, denominator.reshape((-1, 1)))\n",
    " \n",
    "    return {\"a\":a, \"b\":b}"
   ]
  },
  {
   "cell_type": "code",
   "execution_count": 7,
   "metadata": {},
   "outputs": [
    {
     "name": "stdout",
     "output_type": "stream",
     "text": [
      "{'a': array([[0.53816345, 0.46183655],\n",
      "       [0.48664443, 0.51335557]]), 'b': array([[0.16277513, 0.26258073, 0.57464414],\n",
      "       [0.2514996 , 0.27780971, 0.47069069]])}\n"
     ]
    }
   ],
   "source": [
    "data = pd.read_csv('./data_python.csv')\n",
    "V = data['Visible'].values\n",
    "\n",
    "# transition probabilitiew\n",
    "a = np.ones((2,2))\n",
    "a = a/np.sum(a, axis=1)\n",
    "\n",
    "# emission probabilities\n",
    "b = np.array((\n",
    "    (1,3,5),\n",
    "    (2,4,6)))\n",
    "b = b/np.sum(b, axis=1).reshape(-1,1)\n",
    "\n",
    "# equal probabilities for initial distribution\n",
    "initial_distribution = np.array((0.5,0.5))\n",
    "\n",
    "print(baum_welch(V,a,b,initial_distribution, n_iter=100))"
   ]
  }
 ],
 "metadata": {
  "kernelspec": {
   "display_name": "TensorFlow",
   "language": "python",
   "name": "python3"
  },
  "language_info": {
   "codemirror_mode": {
    "name": "ipython",
    "version": 3
   },
   "file_extension": ".py",
   "mimetype": "text/x-python",
   "name": "python",
   "nbconvert_exporter": "python",
   "pygments_lexer": "ipython3",
   "version": "3.10.8"
  },
  "orig_nbformat": 4,
  "vscode": {
   "interpreter": {
    "hash": "45c48fb264bba0529b917885aa2fdf54bfc5ac58ac8ea30a57d1df6ad7c47fba"
   }
  }
 },
 "nbformat": 4,
 "nbformat_minor": 2
}
