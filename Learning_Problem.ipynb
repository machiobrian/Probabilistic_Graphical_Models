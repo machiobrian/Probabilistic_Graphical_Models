{
 "cells": [
  {
   "cell_type": "code",
   "execution_count": 2,
   "metadata": {},
   "outputs": [],
   "source": [
    "import numpy as np \n",
    "import pandas as pd"
   ]
  },
  {
   "cell_type": "code",
   "execution_count": 3,
   "metadata": {},
   "outputs": [],
   "source": [
    "data = pd.read_csv('./data_python.csv')\n",
    "V = data['Visible'].values\n",
    "\n",
    "# transition probabilitiew\n",
    "a = np.ones((2,2))\n",
    "a = a/np.sum(a, axis=1)\n",
    "\n",
    "# emission probabilities\n",
    "b = np.array((\n",
    "    (1,3,5),\n",
    "    (2,4,6)))\n",
    "b = b/np.sum(b, axis=1).reshape(-1,1)\n",
    "\n",
    "# equal probabilities for initial distribution\n",
    "initial_distribution = np.array((0.5,0.5))\n",
    "\n",
    "print(baum_welch(V,a,b,initial_distribution, n_iter=100))"
   ]
  }
 ],
 "metadata": {
  "kernelspec": {
   "display_name": "TensorFlow",
   "language": "python",
   "name": "python3"
  },
  "language_info": {
   "codemirror_mode": {
    "name": "ipython",
    "version": 3
   },
   "file_extension": ".py",
   "mimetype": "text/x-python",
   "name": "python",
   "nbconvert_exporter": "python",
   "pygments_lexer": "ipython3",
   "version": "3.10.8"
  },
  "orig_nbformat": 4,
  "vscode": {
   "interpreter": {
    "hash": "45c48fb264bba0529b917885aa2fdf54bfc5ac58ac8ea30a57d1df6ad7c47fba"
   }
  }
 },
 "nbformat": 4,
 "nbformat_minor": 2
}
